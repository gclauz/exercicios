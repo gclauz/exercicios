{
  "nbformat": 4,
  "nbformat_minor": 0,
  "metadata": {
    "colab": {
      "provenance": [],
      "include_colab_link": true
    },
    "kernelspec": {
      "name": "python3",
      "display_name": "Python 3"
    },
    "language_info": {
      "name": "python"
    }
  },
  "cells": [
    {
      "cell_type": "markdown",
      "metadata": {
        "id": "view-in-github",
        "colab_type": "text"
      },
      "source": [
        "<a href=\"https://colab.research.google.com/github/gclauz/exercicios/blob/main/Aula01_An%C3%A1lise_de_dados.ipynb\" target=\"_parent\"><img src=\"https://colab.research.google.com/assets/colab-badge.svg\" alt=\"Open In Colab\"/></a>"
      ]
    },
    {
      "cell_type": "code",
      "execution_count": null,
      "metadata": {
        "colab": {
          "base_uri": "https://localhost:8080/"
        },
        "id": "Yj62Ac2Q1qcm",
        "outputId": "48a167b9-aeab-41c7-fc10-7af46a9efb2f"
      },
      "outputs": [
        {
          "output_type": "stream",
          "name": "stdout",
          "text": [
            "Bem vindo ao curso de Análise de Dados\n"
          ]
        }
      ],
      "source": [
        "print (\"Bem vindo ao curso de Análise de Dados\") #shift + enter + execução\n",
        "\n"
      ]
    },
    {
      "cell_type": "code",
      "source": [
        "print (\"Bem vindo ao curso de Análise de Dados\")"
      ],
      "metadata": {
        "colab": {
          "base_uri": "https://localhost:8080/"
        },
        "id": "UzdBm8AG3RcL",
        "outputId": "a25fe481-161f-4669-b5cd-9b594be1312c"
      },
      "execution_count": null,
      "outputs": [
        {
          "output_type": "stream",
          "name": "stdout",
          "text": [
            "Bem vindo ao curso de Análise de Dados\n"
          ]
        }
      ]
    },
    {
      "cell_type": "code",
      "source": [
        "print (\"Hello world! \\n Im alive!\")"
      ],
      "metadata": {
        "colab": {
          "base_uri": "https://localhost:8080/"
        },
        "id": "44sK08oS3Zep",
        "outputId": "963e8e0f-e0e7-4370-ba79-324216cc684d"
      },
      "execution_count": null,
      "outputs": [
        {
          "output_type": "stream",
          "name": "stdout",
          "text": [
            "Hello world! \n",
            " Im alive!\n"
          ]
        }
      ]
    },
    {
      "cell_type": "code",
      "source": [
        "#soma\n",
        "1+3+6 #asdfasdf"
      ],
      "metadata": {
        "colab": {
          "base_uri": "https://localhost:8080/"
        },
        "id": "gKM2kqN53hhB",
        "outputId": "8ca47ca9-2afe-4fc5-a43c-9c415cbc1984"
      },
      "execution_count": null,
      "outputs": [
        {
          "output_type": "execute_result",
          "data": {
            "text/plain": [
              "10"
            ]
          },
          "metadata": {},
          "execution_count": 4
        }
      ]
    },
    {
      "cell_type": "code",
      "source": [
        "#subtração\n",
        "1 - 2"
      ],
      "metadata": {
        "colab": {
          "base_uri": "https://localhost:8080/"
        },
        "id": "_Po8lXkd4Hke",
        "outputId": "4d414ca9-69c1-40db-933b-8f49dce5c2af"
      },
      "execution_count": null,
      "outputs": [
        {
          "output_type": "execute_result",
          "data": {
            "text/plain": [
              "-1"
            ]
          },
          "metadata": {},
          "execution_count": 5
        }
      ]
    },
    {
      "cell_type": "code",
      "source": [
        "#multiplicação\n",
        "2 * 3"
      ],
      "metadata": {
        "colab": {
          "base_uri": "https://localhost:8080/"
        },
        "id": "dSpIkECM4I-O",
        "outputId": "140e3ffb-7270-4862-f11e-c7f823a085b0"
      },
      "execution_count": null,
      "outputs": [
        {
          "output_type": "execute_result",
          "data": {
            "text/plain": [
              "6"
            ]
          },
          "metadata": {},
          "execution_count": 7
        }
      ]
    },
    {
      "cell_type": "code",
      "source": [
        "#divisão\n",
        "10/5"
      ],
      "metadata": {
        "colab": {
          "base_uri": "https://localhost:8080/"
        },
        "id": "RBJHeZaD4JPE",
        "outputId": "f1fd7d31-f23e-4fcc-8e78-dc8f8da0889e"
      },
      "execution_count": null,
      "outputs": [
        {
          "output_type": "execute_result",
          "data": {
            "text/plain": [
              "2.0"
            ]
          },
          "metadata": {},
          "execution_count": 8
        }
      ]
    },
    {
      "cell_type": "code",
      "source": [
        "#exponenciação\n",
        "2**3"
      ],
      "metadata": {
        "colab": {
          "base_uri": "https://localhost:8080/"
        },
        "id": "v9yN5lbJ4dV8",
        "outputId": "9f6fed3d-5ce8-49fb-9a93-3af2502ac79a"
      },
      "execution_count": null,
      "outputs": [
        {
          "output_type": "execute_result",
          "data": {
            "text/plain": [
              "8"
            ]
          },
          "metadata": {},
          "execution_count": 9
        }
      ]
    },
    {
      "cell_type": "code",
      "source": [
        "#resto da divisão\n",
        "5 % 4"
      ],
      "metadata": {
        "colab": {
          "base_uri": "https://localhost:8080/"
        },
        "id": "Qx9DNW464dhl",
        "outputId": "607eb3af-1c9b-4d30-b611-8abdc571a320"
      },
      "execution_count": null,
      "outputs": [
        {
          "output_type": "execute_result",
          "data": {
            "text/plain": [
              "1"
            ]
          },
          "metadata": {},
          "execution_count": 11
        }
      ]
    },
    {
      "cell_type": "code",
      "source": [
        "#quociente\n",
        "5 // 4"
      ],
      "metadata": {
        "colab": {
          "base_uri": "https://localhost:8080/"
        },
        "id": "etWsKXWv4loC",
        "outputId": "ecb57de3-bf49-457b-e970-8dc22e2ef0c7"
      },
      "execution_count": null,
      "outputs": [
        {
          "output_type": "execute_result",
          "data": {
            "text/plain": [
              "1"
            ]
          },
          "metadata": {},
          "execution_count": 10
        }
      ]
    },
    {
      "cell_type": "code",
      "source": [
        "#variaveis de texto\n",
        "nome = 'Henrique Ferreira Marciano'\n",
        "vartexto_01 = str('1111')\n",
        "print (nome, vartexto_01)"
      ],
      "metadata": {
        "colab": {
          "base_uri": "https://localhost:8080/"
        },
        "id": "KvwGRrUq4tWr",
        "outputId": "6d8f1e94-8eaf-4b3a-a448-dc7d794e0917"
      },
      "execution_count": null,
      "outputs": [
        {
          "output_type": "stream",
          "name": "stdout",
          "text": [
            "Henrique Ferreira Marciano 1111\n"
          ]
        }
      ]
    },
    {
      "cell_type": "code",
      "source": [
        "#variáveis números inteiros\n",
        "Var_inteiro_01 = 100\n",
        "Var_inteiro_02 = int(200)\n",
        "print (Var_inteiro_01, Var_inteiro_02)\n"
      ],
      "metadata": {
        "colab": {
          "base_uri": "https://localhost:8080/"
        },
        "id": "Qie9ayO84taJ",
        "outputId": "828aaf3f-38fc-439d-e1b3-3303f6d6d7ac"
      },
      "execution_count": null,
      "outputs": [
        {
          "output_type": "stream",
          "name": "stdout",
          "text": [
            "100 200\n"
          ]
        }
      ]
    },
    {
      "cell_type": "code",
      "source": [
        "#variáveis números flutuantes\n",
        "var_flutuante_01 = 3.141516\n",
        "var_flutuante_02 = 10.95441133123\n",
        "print(var_flutuante_01, var_flutuante_02)"
      ],
      "metadata": {
        "id": "MLwxu7ao4tfn",
        "colab": {
          "base_uri": "https://localhost:8080/"
        },
        "outputId": "64691690-db0d-4c5a-80de-331666531ec4"
      },
      "execution_count": null,
      "outputs": [
        {
          "output_type": "stream",
          "name": "stdout",
          "text": [
            "3.141516 10.95441133123\n"
          ]
        }
      ]
    },
    {
      "cell_type": "code",
      "source": [
        "#variáveis booleanas\n",
        "var_booleano_01 = True\n",
        "var_booleano_02 = False\n",
        "print(var_booleano_01, var_booleano_02)"
      ],
      "metadata": {
        "colab": {
          "base_uri": "https://localhost:8080/"
        },
        "id": "pDUKm-wJ6Qny",
        "outputId": "8afc437f-f5ae-437e-a51e-c876c3308c65"
      },
      "execution_count": null,
      "outputs": [
        {
          "output_type": "stream",
          "name": "stdout",
          "text": [
            "True False\n"
          ]
        }
      ]
    },
    {
      "cell_type": "code",
      "source": [
        "#listas\n",
        "lista_01 = [0, 5, 10, 15, 20, 25, 30, 35, 40, 45, 50]\n",
        "lista_02 = ['Marcelo', 'Maria', 'Matias', 'Manuel', 'Mel', 'Murilo', 'Maite', 'Mia', 'Madalena', 'Marte']\n",
        "lista_03 = ['Nome', 'CPF', 2535, True, [54321]]\n",
        "lista_01, lista_02, lista_03"
      ],
      "metadata": {
        "id": "deOEivKg6lmc",
        "colab": {
          "base_uri": "https://localhost:8080/"
        },
        "outputId": "748b72cc-1435-4b21-bf1e-0b5b10bb0975"
      },
      "execution_count": null,
      "outputs": [
        {
          "output_type": "execute_result",
          "data": {
            "text/plain": [
              "([0, 5, 10, 15, 20, 25, 30, 35, 40, 45, 50],\n",
              " ['Marcelo',\n",
              "  'Maria',\n",
              "  'Matias',\n",
              "  'Manuel',\n",
              "  'Mel',\n",
              "  'Murilo',\n",
              "  'Maite',\n",
              "  'Mia',\n",
              "  'Madalena',\n",
              "  'Marte'],\n",
              " ['Nome', 'CPF', 2535, True, [54321]])"
            ]
          },
          "metadata": {},
          "execution_count": 10
        }
      ]
    },
    {
      "cell_type": "code",
      "source": [
        "#Tuplas - lembrem-se que elas são imutáveis - são representados entre parenteses\n",
        "Tupla_01 = (0,1,2,3)\n",
        "Tupla_02 = ('texto', False, 5)\n",
        "Tupla_01, Tupla_02"
      ],
      "metadata": {
        "id": "CX-Of8UM7QGI",
        "colab": {
          "base_uri": "https://localhost:8080/"
        },
        "outputId": "66de881d-7f0a-41e4-d45a-13bee8a8ac25"
      },
      "execution_count": null,
      "outputs": [
        {
          "output_type": "execute_result",
          "data": {
            "text/plain": [
              "((0, 1, 2, 3), ('texto', False, 5))"
            ]
          },
          "metadata": {},
          "execution_count": 11
        }
      ]
    },
    {
      "cell_type": "code",
      "source": [
        "#Dicionarios relaciona uma chave e um valor - são representados por chaves\n",
        "dicionário_01 = {\n",
        "    'Índice':'valor',\n",
        "    'Nome':'Id',\n",
        "    'Leandro':'Id01',\n",
        "    'Marcelo': 'Id02',\n",
        "    'Lista' : lista_01,\n",
        "    'Tupla' : Tupla_01\n",
        "}\n",
        "dicionário_01"
      ],
      "metadata": {
        "colab": {
          "base_uri": "https://localhost:8080/"
        },
        "id": "l-VJDbkV8Uok",
        "outputId": "53c549fb-474f-48fb-8363-83e565dc26fd"
      },
      "execution_count": null,
      "outputs": [
        {
          "output_type": "execute_result",
          "data": {
            "text/plain": [
              "{'Índice': 'valor',\n",
              " 'Nome': 'Id',\n",
              " 'Leandro': 'Id01',\n",
              " 'Marcelo': 'Id02',\n",
              " 'Lista': [0, 5, 10, 15, 20, 25, 30, 35, 40, 45, 50],\n",
              " 'Tupla': (0, 1, 2, 3)}"
            ]
          },
          "metadata": {},
          "execution_count": 12
        }
      ]
    }
  ]
}