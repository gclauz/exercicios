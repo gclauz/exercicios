{
  "nbformat": 4,
  "nbformat_minor": 0,
  "metadata": {
    "colab": {
      "provenance": [],
      "include_colab_link": true
    },
    "kernelspec": {
      "name": "python3",
      "display_name": "Python 3"
    },
    "language_info": {
      "name": "python"
    }
  },
  "cells": [
    {
      "cell_type": "markdown",
      "metadata": {
        "id": "view-in-github",
        "colab_type": "text"
      },
      "source": [
        "<a href=\"https://colab.research.google.com/github/gclauz/exercicios/blob/main/Aula02_An%C3%A1lise_de_dados.ipynb\" target=\"_parent\"><img src=\"https://colab.research.google.com/assets/colab-badge.svg\" alt=\"Open In Colab\"/></a>"
      ]
    },
    {
      "cell_type": "markdown",
      "source": [
        "Aula 02 - Analise de dados\n",
        "\n",
        "\n",
        "*   Item da lista\n",
        "*   Item da lista\n",
        "*   Item da lista"
      ],
      "metadata": {
        "id": "pMF4OhjVApaY"
      }
    },
    {
      "cell_type": "code",
      "execution_count": null,
      "metadata": {
        "colab": {
          "base_uri": "https://localhost:8080/"
        },
        "id": "DMZgKmFx3GGA",
        "outputId": "8543dd5c-8925-4b92-9795-8ce92a987ffb"
      },
      "outputs": [
        {
          "output_type": "stream",
          "name": "stdout",
          "text": [
            "1 2 3\n"
          ]
        }
      ],
      "source": [
        "#nomeando variaveis\n",
        "laranja, melao, limao = 1,2,3\n",
        "print(laranja, melao, limao)"
      ]
    },
    {
      "cell_type": "code",
      "source": [
        "#atribuindo várias váriaveis com o mesmo valor\n",
        "caju = jaboticaba = carambola = 100\n",
        "print (caju, jaboticaba, carambola)"
      ],
      "metadata": {
        "colab": {
          "base_uri": "https://localhost:8080/"
        },
        "id": "hz8BBKjQ3mVZ",
        "outputId": "5b06ec1f-1336-475b-8d3f-511ec9662de1"
      },
      "execution_count": null,
      "outputs": [
        {
          "output_type": "stream",
          "name": "stdout",
          "text": [
            "100 100 100\n"
          ]
        }
      ]
    },
    {
      "cell_type": "code",
      "source": [
        "#nomear com listas\n",
        "lista_carros = ['fiat', 'ferrari','tesla']\n",
        "marca01, marca02, marca03 = lista_carros\n",
        "print(marca01, marca02, marca03)"
      ],
      "metadata": {
        "id": "2H53Okc93_Ed",
        "colab": {
          "base_uri": "https://localhost:8080/"
        },
        "outputId": "bc5bf760-af71-427b-bb4d-1d7b560299e9"
      },
      "execution_count": null,
      "outputs": [
        {
          "output_type": "stream",
          "name": "stdout",
          "text": [
            "fiat ferrari tesla\n"
          ]
        }
      ]
    },
    {
      "cell_type": "code",
      "source": [
        "#nomear variáveis\n",
        "Nome = 'Leandro'\n",
        "Sobrenome = 'Zerbinatti'\n",
        "Nome_completo = Nome + Sobrenome\n",
        "print(Nome_completo)"
      ],
      "metadata": {
        "id": "iV_kytuLB9Ro"
      },
      "execution_count": null,
      "outputs": []
    },
    {
      "cell_type": "code",
      "source": [
        "#variaveis com diversos tipos\n",
        "Nome = 'Leandro'\n",
        "Idade = '52' #esta declaracao esta correta?\n",
        "print(Nome + ' ' + Idade)"
      ],
      "metadata": {
        "id": "VwJlvW0OCtjC",
        "colab": {
          "base_uri": "https://localhost:8080/"
        },
        "outputId": "f0d73d48-1686-4670-fe4e-5dffd4ff18c8"
      },
      "execution_count": null,
      "outputs": [
        {
          "output_type": "stream",
          "name": "stdout",
          "text": [
            "Leandro 52\n"
          ]
        }
      ]
    },
    {
      "cell_type": "code",
      "source": [
        "investimento = 1000\n",
        "Taxa_Juros = float(0.2)\n",
        "print (investimento * Taxa_Juros)\n",
        "valor_total = (investimento * Taxa_Juros) + investimento\n",
        "print (valor_total)"
      ],
      "metadata": {
        "id": "lWZfAIJyDNjo",
        "outputId": "274a6a01-5ffc-4458-f38c-577838fe5382",
        "colab": {
          "base_uri": "https://localhost:8080/"
        }
      },
      "execution_count": null,
      "outputs": [
        {
          "output_type": "stream",
          "name": "stdout",
          "text": [
            "200.0\n",
            "1200.0\n"
          ]
        }
      ]
    },
    {
      "cell_type": "code",
      "source": [
        "string = str('Hello world')\n",
        "inteiro = int(10)\n",
        "flutuante = float(100.5)\n",
        "complexo = complex(1j)\n",
        "lista = ({'Maçã', 'Morango'})\n",
        "tupla = ({'A', 'B'})\n",
        "Range = range (6)\n",
        "dicionario = dict(nome = 'Leandro', age = '52')\n",
        "booleano = bool(5)\n",
        "Byte = bytes(5)\n",
        "Bytearray = bytearray(5)\n",
        "Memorybytes = memoryview(bytes(5))\n",
        "\n",
        "from datetime import datetime\n",
        "Data = datetime.today().date"
      ],
      "metadata": {
        "id": "521jkqnGDdkB"
      },
      "execution_count": null,
      "outputs": []
    },
    {
      "cell_type": "code",
      "source": [
        "type(string)"
      ],
      "metadata": {
        "id": "vFjumeV-FafV"
      },
      "execution_count": null,
      "outputs": []
    }
  ]
}